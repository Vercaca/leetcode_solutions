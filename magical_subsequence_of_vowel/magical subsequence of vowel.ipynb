{
 "cells": [
  {
   "cell_type": "code",
   "execution_count": 43,
   "metadata": {
    "collapsed": true
   },
   "outputs": [],
   "source": [
    "chars = 'aeiou'"
   ]
  },
  {
   "cell_type": "code",
   "execution_count": 40,
   "metadata": {
    "collapsed": true
   },
   "outputs": [],
   "source": [
    "s = 'eeaaieouuiuaeeeiiiouuueeeiiiouuuuuu'"
   ]
  },
  {
   "cell_type": "code",
   "execution_count": 46,
   "metadata": {
    "collapsed": true
   },
   "outputs": [],
   "source": [
    "start = 0\n",
    "sub_list = [0,0,0,0,0]\n",
    "for i, v in enumerate(s):\n",
    "    # print('pos = {}, char = {}, start = {}'.format(i, v, start))\n",
    "    \n",
    "    ch = chars.find(v)\n",
    "    # print('ch_position = {}'.format(ch))\n",
    "    if ch <= start: # 'e' == 'e' or 'e' < 'o'\n",
    "        if ch == 0:\n",
    "            sub_list[ch] +=1\n",
    "        else:\n",
    "            tmp = max(sub_list[ch-1], sub_list[ch])\n",
    "            sub_list[ch] = tmp + 1\n",
    "    else:\n",
    "        if ch == start+1: # 'e' == 'ae'\n",
    "            start +=1\n",
    "            sub_list[ch] = sub_list[ch-1] +1\n",
    "    # print('sub_list = {}\\n'.format(sub_list))\n",
    "ans = sub_list[4]"
   ]
  },
  {
   "cell_type": "code",
   "execution_count": 47,
   "metadata": {
    "collapsed": false
   },
   "outputs": [
    {
     "data": {
      "text/plain": [
       "19"
      ]
     },
     "execution_count": 47,
     "metadata": {},
     "output_type": "execute_result"
    }
   ],
   "source": [
    "ans"
   ]
  },
  {
   "cell_type": "code",
   "execution_count": null,
   "metadata": {
    "collapsed": true
   },
   "outputs": [],
   "source": []
  }
 ],
 "metadata": {
  "kernelspec": {
   "display_name": "Python [Root]",
   "language": "python",
   "name": "Python [Root]"
  },
  "language_info": {
   "codemirror_mode": {
    "name": "ipython",
    "version": 3
   },
   "file_extension": ".py",
   "mimetype": "text/x-python",
   "name": "python",
   "nbconvert_exporter": "python",
   "pygments_lexer": "ipython3",
   "version": "3.5.2"
  }
 },
 "nbformat": 4,
 "nbformat_minor": 0
}
